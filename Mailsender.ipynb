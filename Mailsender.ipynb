{
 "cells": [
  {
   "cell_type": "code",
   "execution_count": 1,
   "metadata": {},
   "outputs": [],
   "source": [
    "import smtplib\n",
    "from email.mime.text import MIMEText\n",
    "from email.mime.multipart import MIMEMultipart\n",
    "from email.mime.base import MIMEBase\n",
    "from email import encoders\n",
    "import os.path\n",
    "import pandas as pd\n",
    "from unidecode import unidecode\n",
    "import keyring\n"
   ]
  },
  {
   "cell_type": "code",
   "execution_count": 2,
   "metadata": {},
   "outputs": [],
   "source": [
    "def send_email(email_recipient,\n",
    "               email_bcc,\n",
    "               email_subject,\n",
    "               email_message,\n",
    "               attachment_location = ''):\n",
    "    ''' This function sends an e-mail with attachments, the inputs should be self-explanatory.\n",
    "        However it is important to set your own paramenters below where the comments indicates!   \n",
    "    '''\n",
    "    email_sender = keyring.get_password(\"mail_user\", \"francisco\")#Set your own e-mail\n",
    "\n",
    "    msg = MIMEMultipart()\n",
    "    msg['From'] = email_sender\n",
    "    msg['To'] = email_recipient\n",
    "    msg['Bcc'] = email_bcc\n",
    "    msg['Subject'] = email_subject\n",
    "\n",
    "    msg.attach(MIMEText(email_message, 'plain'))\n",
    "\n",
    "    if attachment_location != '':\n",
    "        filename = os.path.basename(attachment_location)\n",
    "        attachment = open(attachment_location, \"rb\")\n",
    "        part = MIMEBase('application', 'octet-stream')\n",
    "        part.set_payload(attachment.read())\n",
    "        encoders.encode_base64(part)\n",
    "        part.add_header('Content-Disposition',\n",
    "                        \"attachment; filename= %s\" % filename)\n",
    "        msg.attach(part)\n",
    "\n",
    "    try:\n",
    "        server = smtplib.SMTP(keyring.get_password(\"mail_server\", \"francisco\"), 587)#set your own server\n",
    "        server.ehlo()\n",
    "        server.starttls()\n",
    "        server.login(keyring.get_password(\"mail_user\", \"francisco\"), keyring.get_password(\"mail_pass\", \"francisco\"))#login information, user and password\n",
    "        server.ehlo()\n",
    "        server.send_message(msg)\n",
    "        \n",
    " #       text = msg.as_string()\n",
    "  #      server.sendmail(email_sender, email_recipient, text)\n",
    "        print('email sent')\n",
    "        server.quit()\n",
    "    except:\n",
    "        print(\"SMPT server connection error\")\n",
    "    return True\n",
    "\n",
    "\n"
   ]
  },
  {
   "cell_type": "code",
   "execution_count": 4,
   "metadata": {},
   "outputs": [
    {
     "data": {
      "text/html": [
       "<div>\n",
       "<style scoped>\n",
       "    .dataframe tbody tr th:only-of-type {\n",
       "        vertical-align: middle;\n",
       "    }\n",
       "\n",
       "    .dataframe tbody tr th {\n",
       "        vertical-align: top;\n",
       "    }\n",
       "\n",
       "    .dataframe thead th {\n",
       "        text-align: right;\n",
       "    }\n",
       "</style>\n",
       "<table border=\"1\" class=\"dataframe\">\n",
       "  <thead>\n",
       "    <tr style=\"text-align: right;\">\n",
       "      <th></th>\n",
       "      <th>Nome</th>\n",
       "      <th>Curso</th>\n",
       "      <th>Carga</th>\n",
       "      <th>Data</th>\n",
       "      <th>Email</th>\n",
       "    </tr>\n",
       "  </thead>\n",
       "  <tbody>\n",
       "    <tr>\n",
       "      <th>0</th>\n",
       "      <td>Francisco Medeiros</td>\n",
       "      <td>Example</td>\n",
       "      <td>5 hours</td>\n",
       "      <td>2121-04-22</td>\n",
       "      <td>francisco.nania@gmail.com</td>\n",
       "    </tr>\n",
       "  </tbody>\n",
       "</table>\n",
       "</div>"
      ],
      "text/plain": [
       "                 Nome    Curso    Carga       Data                      Email\n",
       "0  Francisco Medeiros  Example  5 hours 2121-04-22  francisco.nania@gmail.com"
      ]
     },
     "execution_count": 4,
     "metadata": {},
     "output_type": "execute_result"
    }
   ],
   "source": [
    "#Read our excel file.\n",
    "df = pd.read_excel('File.xlsx')\n",
    "df.head()"
   ]
  },
  {
   "cell_type": "code",
   "execution_count": 8,
   "metadata": {},
   "outputs": [
    {
     "name": "stdout",
     "output_type": "stream",
     "text": [
      "francisco@ascongraph.com.br\n"
     ]
    }
   ],
   "source": [
    "print(keyring.get_password(\"mail_user\", \"francisco\"))"
   ]
  },
  {
   "cell_type": "code",
   "execution_count": 9,
   "metadata": {},
   "outputs": [
    {
     "name": "stdout",
     "output_type": "stream",
     "text": [
      "email sent\n"
     ]
    }
   ],
   "source": [
    "#Excel sheet is in portuguese, but should make sense\n",
    "for index in df.index:\n",
    "    content =  '''This is an edited mail body{}{}{}{}'''.format(df['Nome'][index],df['Curso'][index],df['Data'][index],df['Carga'][index])#Add the text for your e-mail and format with your excel sheet\n",
    "    file = unidecode(df['Nome'][index]) + '.pdf' #Needed this change because our list of pdf did not have utf-8 characters, but our Names needed\n",
    "    \n",
    "    send_email(df['Email'][index] , keyring.get_password(\"mail_user\", \"francisco\") , 'This is an {}'.format(df['Curso'][index]) , content , file)\n",
    "   "
   ]
  },
  {
   "cell_type": "code",
   "execution_count": null,
   "metadata": {},
   "outputs": [],
   "source": []
  }
 ],
 "metadata": {
  "kernelspec": {
   "display_name": "Python 3",
   "language": "python",
   "name": "python3"
  },
  "language_info": {
   "codemirror_mode": {
    "name": "ipython",
    "version": 3
   },
   "file_extension": ".py",
   "mimetype": "text/x-python",
   "name": "python",
   "nbconvert_exporter": "python",
   "pygments_lexer": "ipython3",
   "version": "3.8.5"
  }
 },
 "nbformat": 4,
 "nbformat_minor": 4
}
